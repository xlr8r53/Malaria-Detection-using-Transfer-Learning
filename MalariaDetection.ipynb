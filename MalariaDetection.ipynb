{
  "cells": [
    {
      "cell_type": "markdown",
      "metadata": {
        "id": "O4bbKv9OEnj7"
      },
      "source": [
        "## Creating CNN Using Scratch And Transfer Learning"
      ]
    },
    {
      "cell_type": "markdown",
      "metadata": {
        "id": "hvFiEenNEnj9"
      },
      "source": [
        "Please download the dataset from the below url"
      ]
    },
    {
      "cell_type": "code",
      "execution_count": null,
      "metadata": {
        "id": "Hqt8fd5FEnj-"
      },
      "outputs": [],
      "source": [
        "# import the libraries as shown below\n",
        "\n",
        "from tensorflow.keras.layers import Input, Lambda, Dense, Flatten,Conv2D\n",
        "from tensorflow.keras.models import Model\n",
        "from tensorflow.keras.applications.vgg19 import VGG19\n",
        "from tensorflow.keras.applications.resnet50 import preprocess_input\n",
        "from tensorflow.keras.preprocessing import image\n",
        "from tensorflow.keras.preprocessing.image import ImageDataGenerator,load_img\n",
        "from tensorflow.keras.models import Sequential\n",
        "import numpy as np\n",
        "from glob import glob\n",
        "import matplotlib.pyplot as plt"
      ]
    },
    {
      "cell_type": "code",
      "execution_count": null,
      "metadata": {
        "id": "tBQusmXREnj_"
      },
      "outputs": [],
      "source": [
        "# re-size all the images to this\n",
        "IMAGE_SIZE = [224, 224]\n",
        "\n",
        "train_path = '/content/drive/MyDrive/Dataset/Train'\n",
        "valid_path = '/content/drive/MyDrive/Dataset/Test'\n"
      ]
    },
    {
      "cell_type": "code",
      "execution_count": null,
      "metadata": {
        "id": "Y0txPuuDEnkA",
        "colab": {
          "base_uri": "https://localhost:8080/"
        },
        "outputId": "67f953d2-5c1b-4e39-81b2-a536ed4756e5"
      },
      "outputs": [
        {
          "output_type": "stream",
          "name": "stdout",
          "text": [
            "Downloading data from https://storage.googleapis.com/tensorflow/keras-applications/vgg19/vgg19_weights_tf_dim_ordering_tf_kernels_notop.h5\n",
            "80142336/80134624 [==============================] - 0s 0us/step\n",
            "80150528/80134624 [==============================] - 0s 0us/step\n"
          ]
        }
      ],
      "source": [
        "# Import the Vgg 16 library as shown below and add preprocessing layer to the front of VGG\n",
        "# Here we will be using imagenet weights\n",
        "\n",
        "mobilnet = VGG19(input_shape=IMAGE_SIZE + [3], weights='imagenet', include_top=False)\n",
        "\n",
        "\n"
      ]
    },
    {
      "cell_type": "code",
      "execution_count": null,
      "metadata": {
        "id": "cEWm6YJ3EnkA"
      },
      "outputs": [],
      "source": [
        "# don't train existing weights\n",
        "for layer in mobilnet.layers:\n",
        "    layer.trainable = False"
      ]
    },
    {
      "cell_type": "code",
      "execution_count": null,
      "metadata": {
        "id": "g113MdJBEnkA"
      },
      "outputs": [],
      "source": [
        "  # useful for getting number of output classes\n",
        "folders = glob('/content/drive/MyDrive/Dataset/Train/*')"
      ]
    },
    {
      "cell_type": "code",
      "execution_count": null,
      "metadata": {
        "id": "W3u5iyQdEnkB",
        "outputId": "b7c58357-e051-431d-b990-697b2e851a1f",
        "colab": {
          "base_uri": "https://localhost:8080/"
        }
      },
      "outputs": [
        {
          "output_type": "execute_result",
          "data": {
            "text/plain": [
              "['/content/drive/MyDrive/Dataset/Train/Parasite',\n",
              " '/content/drive/MyDrive/Dataset/Train/Uninfected']"
            ]
          },
          "metadata": {},
          "execution_count": 9
        }
      ],
      "source": [
        "folders"
      ]
    },
    {
      "cell_type": "code",
      "execution_count": null,
      "metadata": {
        "id": "4ktkr0EjEnkC"
      },
      "outputs": [],
      "source": [
        "# our layers - you can add more if you want\n",
        "x = Flatten()(mobilnet.output)"
      ]
    },
    {
      "cell_type": "code",
      "execution_count": null,
      "metadata": {
        "id": "7srMDCvOEnkC"
      },
      "outputs": [],
      "source": [
        "prediction = Dense(len(folders), activation='softmax')(x)\n",
        "\n",
        "# create a model object\n",
        "model = Model(inputs=mobilnet.input, outputs=prediction)"
      ]
    },
    {
      "cell_type": "code",
      "execution_count": null,
      "metadata": {
        "id": "SqZ7PHPfEnkC",
        "outputId": "7f099a4a-3a19-4342-93a5-0f865e3286b7",
        "colab": {
          "base_uri": "https://localhost:8080/"
        }
      },
      "outputs": [
        {
          "output_type": "stream",
          "name": "stdout",
          "text": [
            "Model: \"model\"\n",
            "_________________________________________________________________\n",
            " Layer (type)                Output Shape              Param #   \n",
            "=================================================================\n",
            " input_1 (InputLayer)        [(None, 224, 224, 3)]     0         \n",
            "                                                                 \n",
            " block1_conv1 (Conv2D)       (None, 224, 224, 64)      1792      \n",
            "                                                                 \n",
            " block1_conv2 (Conv2D)       (None, 224, 224, 64)      36928     \n",
            "                                                                 \n",
            " block1_pool (MaxPooling2D)  (None, 112, 112, 64)      0         \n",
            "                                                                 \n",
            " block2_conv1 (Conv2D)       (None, 112, 112, 128)     73856     \n",
            "                                                                 \n",
            " block2_conv2 (Conv2D)       (None, 112, 112, 128)     147584    \n",
            "                                                                 \n",
            " block2_pool (MaxPooling2D)  (None, 56, 56, 128)       0         \n",
            "                                                                 \n",
            " block3_conv1 (Conv2D)       (None, 56, 56, 256)       295168    \n",
            "                                                                 \n",
            " block3_conv2 (Conv2D)       (None, 56, 56, 256)       590080    \n",
            "                                                                 \n",
            " block3_conv3 (Conv2D)       (None, 56, 56, 256)       590080    \n",
            "                                                                 \n",
            " block3_conv4 (Conv2D)       (None, 56, 56, 256)       590080    \n",
            "                                                                 \n",
            " block3_pool (MaxPooling2D)  (None, 28, 28, 256)       0         \n",
            "                                                                 \n",
            " block4_conv1 (Conv2D)       (None, 28, 28, 512)       1180160   \n",
            "                                                                 \n",
            " block4_conv2 (Conv2D)       (None, 28, 28, 512)       2359808   \n",
            "                                                                 \n",
            " block4_conv3 (Conv2D)       (None, 28, 28, 512)       2359808   \n",
            "                                                                 \n",
            " block4_conv4 (Conv2D)       (None, 28, 28, 512)       2359808   \n",
            "                                                                 \n",
            " block4_pool (MaxPooling2D)  (None, 14, 14, 512)       0         \n",
            "                                                                 \n",
            " block5_conv1 (Conv2D)       (None, 14, 14, 512)       2359808   \n",
            "                                                                 \n",
            " block5_conv2 (Conv2D)       (None, 14, 14, 512)       2359808   \n",
            "                                                                 \n",
            " block5_conv3 (Conv2D)       (None, 14, 14, 512)       2359808   \n",
            "                                                                 \n",
            " block5_conv4 (Conv2D)       (None, 14, 14, 512)       2359808   \n",
            "                                                                 \n",
            " block5_pool (MaxPooling2D)  (None, 7, 7, 512)         0         \n",
            "                                                                 \n",
            " flatten (Flatten)           (None, 25088)             0         \n",
            "                                                                 \n",
            " dense (Dense)               (None, 2)                 50178     \n",
            "                                                                 \n",
            "=================================================================\n",
            "Total params: 20,074,562\n",
            "Trainable params: 50,178\n",
            "Non-trainable params: 20,024,384\n",
            "_________________________________________________________________\n"
          ]
        }
      ],
      "source": [
        "\n",
        "# view the structure of the model\n",
        "model.summary()\n"
      ]
    },
    {
      "cell_type": "code",
      "execution_count": null,
      "metadata": {
        "id": "QHQ5PlQVEnkD"
      },
      "outputs": [],
      "source": [
        "from tensorflow.keras.layers import MaxPooling2D"
      ]
    },
    {
      "cell_type": "code",
      "execution_count": null,
      "metadata": {
        "id": "nuaJNO5mEnkD",
        "outputId": "6bae5e0a-1cf0-4f2f-ded2-4c8d24dca779",
        "colab": {
          "base_uri": "https://localhost:8080/"
        }
      },
      "outputs": [
        {
          "output_type": "stream",
          "name": "stdout",
          "text": [
            "Model: \"sequential\"\n",
            "_________________________________________________________________\n",
            " Layer (type)                Output Shape              Param #   \n",
            "=================================================================\n",
            " conv2d (Conv2D)             (None, 224, 224, 16)      208       \n",
            "                                                                 \n",
            " max_pooling2d (MaxPooling2D  (None, 112, 112, 16)     0         \n",
            " )                                                               \n",
            "                                                                 \n",
            " conv2d_1 (Conv2D)           (None, 112, 112, 32)      2080      \n",
            "                                                                 \n",
            " max_pooling2d_1 (MaxPooling  (None, 56, 56, 32)       0         \n",
            " 2D)                                                             \n",
            "                                                                 \n",
            " conv2d_2 (Conv2D)           (None, 56, 56, 64)        8256      \n",
            "                                                                 \n",
            " max_pooling2d_2 (MaxPooling  (None, 28, 28, 64)       0         \n",
            " 2D)                                                             \n",
            "                                                                 \n",
            " flatten_1 (Flatten)         (None, 50176)             0         \n",
            "                                                                 \n",
            " dense_1 (Dense)             (None, 500)               25088500  \n",
            "                                                                 \n",
            " dense_2 (Dense)             (None, 2)                 1002      \n",
            "                                                                 \n",
            "=================================================================\n",
            "Total params: 25,100,046\n",
            "Trainable params: 25,100,046\n",
            "Non-trainable params: 0\n",
            "_________________________________________________________________\n"
          ]
        }
      ],
      "source": [
        "### Create Model from scratch using CNN\n",
        "model=Sequential()\n",
        "model.add(Conv2D(filters=16,kernel_size=2,padding=\"same\",activation=\"relu\",input_shape=(224,224,3)))\n",
        "model.add(MaxPooling2D(pool_size=2))\n",
        "model.add(Conv2D(filters=32,kernel_size=2,padding=\"same\",activation =\"relu\"))\n",
        "model.add(MaxPooling2D(pool_size=2))\n",
        "model.add(Conv2D(filters=64,kernel_size=2,padding=\"same\",activation=\"relu\"))\n",
        "model.add(MaxPooling2D(pool_size=2))\n",
        "model.add(Flatten())\n",
        "model.add(Dense(500,activation=\"relu\"))\n",
        "model.add(Dense(2,activation=\"softmax\"))\n",
        "model.summary()"
      ]
    },
    {
      "cell_type": "code",
      "execution_count": null,
      "metadata": {
        "id": "wViHr8zqEnkD"
      },
      "outputs": [],
      "source": [
        "# tell the model what cost and optimization method to use\n",
        "model.compile(\n",
        "  loss='categorical_crossentropy',\n",
        "  optimizer='adam',\n",
        "  metrics=['accuracy']\n",
        ")\n"
      ]
    },
    {
      "cell_type": "code",
      "execution_count": null,
      "metadata": {
        "id": "B0MqPhCwEnkE"
      },
      "outputs": [],
      "source": [
        "# Use the Image Data Generator to import the images from the dataset\n",
        "from tensorflow.keras.preprocessing.image import ImageDataGenerator\n",
        "\n",
        "train_datagen = ImageDataGenerator(rescale = 1./255,\n",
        "                                   shear_range = 0.2,\n",
        "                                   zoom_range = 0.2,\n",
        "                                   horizontal_flip = True)\n",
        "\n",
        "test_datagen = ImageDataGenerator(rescale = 1./255)"
      ]
    },
    {
      "cell_type": "code",
      "execution_count": null,
      "metadata": {
        "id": "dkCViWOiEnkE",
        "outputId": "d64dae4c-feb4-4252-9e7d-99c12bd89363",
        "colab": {
          "base_uri": "https://localhost:8080/"
        }
      },
      "outputs": [
        {
          "output_type": "stream",
          "name": "stdout",
          "text": [
            "Found 416 images belonging to 2 classes.\n"
          ]
        }
      ],
      "source": [
        "# Make sure you provide the same target size as initialied for the image size\n",
        "training_set = train_datagen.flow_from_directory('/content/drive/MyDrive/Dataset/Train',\n",
        "                                                 target_size = (224, 224),\n",
        "                                                 batch_size = 32,\n",
        "                                                 class_mode = 'categorical')"
      ]
    },
    {
      "cell_type": "code",
      "execution_count": null,
      "metadata": {
        "id": "HxzJZ2wTEnkF",
        "outputId": "d32fefe2-2fcd-4683-99e2-ff737b9de0ba",
        "colab": {
          "base_uri": "https://localhost:8080/"
        }
      },
      "outputs": [
        {
          "output_type": "execute_result",
          "data": {
            "text/plain": [
              "<keras.preprocessing.image.DirectoryIterator at 0x7fe82a64c990>"
            ]
          },
          "metadata": {},
          "execution_count": 18
        }
      ],
      "source": [
        "training_set"
      ]
    },
    {
      "cell_type": "code",
      "execution_count": null,
      "metadata": {
        "id": "t5J1oLwKEnkF",
        "outputId": "3333980c-e77c-4078-88b2-dfcbf554f6fb",
        "colab": {
          "base_uri": "https://localhost:8080/"
        }
      },
      "outputs": [
        {
          "output_type": "stream",
          "name": "stdout",
          "text": [
            "Found 134 images belonging to 2 classes.\n"
          ]
        }
      ],
      "source": [
        "test_set = test_datagen.flow_from_directory('/content/drive/MyDrive/Dataset/Test',\n",
        "                                            target_size = (224, 224),\n",
        "                                            batch_size = 32,\n",
        "                                            class_mode = 'categorical')"
      ]
    },
    {
      "cell_type": "code",
      "execution_count": null,
      "metadata": {
        "scrolled": true,
        "id": "4gzNy30gEnkF",
        "outputId": "60460c84-4c42-4cdd-decd-e82ab428a87a",
        "colab": {
          "base_uri": "https://localhost:8080/"
        }
      },
      "outputs": [
        {
          "output_type": "stream",
          "name": "stderr",
          "text": [
            "/usr/local/lib/python3.7/dist-packages/ipykernel_launcher.py:8: UserWarning: `Model.fit_generator` is deprecated and will be removed in a future version. Please use `Model.fit`, which supports generators.\n",
            "  \n"
          ]
        },
        {
          "output_type": "stream",
          "name": "stdout",
          "text": [
            "Epoch 1/50\n",
            "13/13 [==============================] - 122s 9s/step - loss: 1.8332 - accuracy: 0.5312 - val_loss: 0.7228 - val_accuracy: 0.4030\n",
            "Epoch 2/50\n",
            "13/13 [==============================] - 20s 1s/step - loss: 0.6907 - accuracy: 0.5337 - val_loss: 0.6740 - val_accuracy: 0.6567\n",
            "Epoch 3/50\n",
            "13/13 [==============================] - 19s 1s/step - loss: 0.6174 - accuracy: 0.6947 - val_loss: 0.7795 - val_accuracy: 0.3881\n",
            "Epoch 4/50\n",
            "13/13 [==============================] - 20s 1s/step - loss: 0.5886 - accuracy: 0.6875 - val_loss: 1.1382 - val_accuracy: 0.3731\n",
            "Epoch 5/50\n",
            "13/13 [==============================] - 19s 1s/step - loss: 0.5719 - accuracy: 0.6755 - val_loss: 0.7042 - val_accuracy: 0.4925\n",
            "Epoch 6/50\n",
            "13/13 [==============================] - 19s 1s/step - loss: 0.5540 - accuracy: 0.6947 - val_loss: 0.9592 - val_accuracy: 0.3806\n",
            "Epoch 7/50\n",
            "13/13 [==============================] - 19s 1s/step - loss: 0.4456 - accuracy: 0.7764 - val_loss: 0.9793 - val_accuracy: 0.3433\n",
            "Epoch 8/50\n",
            "13/13 [==============================] - 19s 1s/step - loss: 0.4297 - accuracy: 0.7740 - val_loss: 1.2015 - val_accuracy: 0.3881\n",
            "Epoch 9/50\n",
            "13/13 [==============================] - 19s 1s/step - loss: 0.4548 - accuracy: 0.7596 - val_loss: 0.7296 - val_accuracy: 0.4776\n",
            "Epoch 10/50\n",
            "13/13 [==============================] - 19s 1s/step - loss: 0.4250 - accuracy: 0.8005 - val_loss: 0.8878 - val_accuracy: 0.3955\n",
            "Epoch 11/50\n",
            "13/13 [==============================] - 19s 1s/step - loss: 0.3584 - accuracy: 0.8486 - val_loss: 1.3699 - val_accuracy: 0.3955\n",
            "Epoch 12/50\n",
            "13/13 [==============================] - 19s 1s/step - loss: 0.4512 - accuracy: 0.7548 - val_loss: 0.8434 - val_accuracy: 0.4776\n",
            "Epoch 13/50\n",
            "13/13 [==============================] - 20s 1s/step - loss: 0.3627 - accuracy: 0.8341 - val_loss: 1.5728 - val_accuracy: 0.3881\n",
            "Epoch 14/50\n",
            "13/13 [==============================] - 19s 1s/step - loss: 0.3261 - accuracy: 0.8558 - val_loss: 1.0144 - val_accuracy: 0.4627\n",
            "Epoch 15/50\n",
            "13/13 [==============================] - 19s 1s/step - loss: 0.2856 - accuracy: 0.8798 - val_loss: 0.6707 - val_accuracy: 0.5970\n",
            "Epoch 16/50\n",
            "13/13 [==============================] - 19s 1s/step - loss: 0.2372 - accuracy: 0.9062 - val_loss: 0.7162 - val_accuracy: 0.6418\n",
            "Epoch 17/50\n",
            "13/13 [==============================] - 19s 1s/step - loss: 0.2375 - accuracy: 0.8990 - val_loss: 0.5477 - val_accuracy: 0.6940\n",
            "Epoch 18/50\n",
            "13/13 [==============================] - 19s 1s/step - loss: 0.1991 - accuracy: 0.9183 - val_loss: 0.5723 - val_accuracy: 0.7015\n",
            "Epoch 19/50\n",
            "13/13 [==============================] - 19s 1s/step - loss: 0.1751 - accuracy: 0.9471 - val_loss: 0.6631 - val_accuracy: 0.7015\n",
            "Epoch 20/50\n",
            "13/13 [==============================] - 19s 1s/step - loss: 0.1635 - accuracy: 0.9591 - val_loss: 0.3333 - val_accuracy: 0.8060\n",
            "Epoch 21/50\n",
            "13/13 [==============================] - 19s 1s/step - loss: 0.1248 - accuracy: 0.9543 - val_loss: 0.3522 - val_accuracy: 0.8209\n",
            "Epoch 22/50\n",
            "13/13 [==============================] - 19s 1s/step - loss: 0.1521 - accuracy: 0.9495 - val_loss: 0.3100 - val_accuracy: 0.8657\n",
            "Epoch 23/50\n",
            "13/13 [==============================] - 19s 1s/step - loss: 0.1021 - accuracy: 0.9736 - val_loss: 0.2893 - val_accuracy: 0.8507\n",
            "Epoch 24/50\n",
            "13/13 [==============================] - 19s 1s/step - loss: 0.1052 - accuracy: 0.9688 - val_loss: 0.3564 - val_accuracy: 0.8358\n",
            "Epoch 25/50\n",
            "13/13 [==============================] - 19s 1s/step - loss: 0.1280 - accuracy: 0.9567 - val_loss: 0.3624 - val_accuracy: 0.8582\n",
            "Epoch 26/50\n",
            "13/13 [==============================] - 19s 1s/step - loss: 0.1555 - accuracy: 0.9519 - val_loss: 0.2190 - val_accuracy: 0.8881\n",
            "Epoch 27/50\n",
            "13/13 [==============================] - 19s 1s/step - loss: 0.1504 - accuracy: 0.9471 - val_loss: 0.2246 - val_accuracy: 0.8881\n",
            "Epoch 28/50\n",
            "13/13 [==============================] - 19s 1s/step - loss: 0.0970 - accuracy: 0.9688 - val_loss: 0.2664 - val_accuracy: 0.8806\n",
            "Epoch 29/50\n",
            "13/13 [==============================] - 19s 1s/step - loss: 0.0693 - accuracy: 0.9808 - val_loss: 0.1994 - val_accuracy: 0.9254\n",
            "Epoch 30/50\n",
            "13/13 [==============================] - 20s 1s/step - loss: 0.0684 - accuracy: 0.9736 - val_loss: 0.1865 - val_accuracy: 0.8955\n",
            "Epoch 31/50\n",
            "13/13 [==============================] - 19s 1s/step - loss: 0.0626 - accuracy: 0.9760 - val_loss: 0.1944 - val_accuracy: 0.9254\n",
            "Epoch 32/50\n",
            "13/13 [==============================] - 19s 1s/step - loss: 0.0729 - accuracy: 0.9832 - val_loss: 0.3180 - val_accuracy: 0.8806\n",
            "Epoch 33/50\n",
            "13/13 [==============================] - 19s 1s/step - loss: 0.0657 - accuracy: 0.9808 - val_loss: 0.2981 - val_accuracy: 0.8731\n",
            "Epoch 34/50\n",
            "13/13 [==============================] - 19s 1s/step - loss: 0.0528 - accuracy: 0.9880 - val_loss: 0.2645 - val_accuracy: 0.8731\n",
            "Epoch 35/50\n",
            "13/13 [==============================] - 19s 1s/step - loss: 0.0388 - accuracy: 0.9904 - val_loss: 0.3424 - val_accuracy: 0.8731\n",
            "Epoch 36/50\n",
            "13/13 [==============================] - 19s 1s/step - loss: 0.0529 - accuracy: 0.9856 - val_loss: 0.3001 - val_accuracy: 0.8806\n",
            "Epoch 37/50\n",
            "13/13 [==============================] - 19s 1s/step - loss: 0.0431 - accuracy: 0.9856 - val_loss: 0.4301 - val_accuracy: 0.8806\n",
            "Epoch 38/50\n",
            "13/13 [==============================] - 19s 1s/step - loss: 0.0534 - accuracy: 0.9856 - val_loss: 0.3343 - val_accuracy: 0.8657\n",
            "Epoch 39/50\n",
            "13/13 [==============================] - 19s 1s/step - loss: 0.0873 - accuracy: 0.9615 - val_loss: 0.2788 - val_accuracy: 0.8881\n",
            "Epoch 40/50\n",
            "13/13 [==============================] - 19s 1s/step - loss: 0.0481 - accuracy: 0.9880 - val_loss: 0.3007 - val_accuracy: 0.9179\n",
            "Epoch 41/50\n",
            "13/13 [==============================] - 19s 1s/step - loss: 0.0394 - accuracy: 0.9904 - val_loss: 0.4548 - val_accuracy: 0.8731\n",
            "Epoch 42/50\n",
            "13/13 [==============================] - 19s 1s/step - loss: 0.0693 - accuracy: 0.9784 - val_loss: 0.1687 - val_accuracy: 0.9478\n",
            "Epoch 43/50\n",
            "13/13 [==============================] - 19s 1s/step - loss: 0.0648 - accuracy: 0.9856 - val_loss: 0.2316 - val_accuracy: 0.9030\n",
            "Epoch 44/50\n",
            "13/13 [==============================] - 19s 1s/step - loss: 0.0243 - accuracy: 0.9952 - val_loss: 0.1616 - val_accuracy: 0.9552\n",
            "Epoch 45/50\n",
            "13/13 [==============================] - 19s 1s/step - loss: 0.0428 - accuracy: 0.9880 - val_loss: 0.2821 - val_accuracy: 0.8731\n",
            "Epoch 46/50\n",
            "13/13 [==============================] - 19s 1s/step - loss: 0.0619 - accuracy: 0.9808 - val_loss: 0.2766 - val_accuracy: 0.8806\n",
            "Epoch 47/50\n",
            "13/13 [==============================] - 19s 1s/step - loss: 0.0358 - accuracy: 0.9904 - val_loss: 0.1400 - val_accuracy: 0.9478\n",
            "Epoch 48/50\n",
            "13/13 [==============================] - 19s 1s/step - loss: 0.0264 - accuracy: 0.9832 - val_loss: 0.1689 - val_accuracy: 0.9478\n",
            "Epoch 49/50\n",
            "13/13 [==============================] - 19s 1s/step - loss: 0.0138 - accuracy: 0.9952 - val_loss: 0.2537 - val_accuracy: 0.8955\n",
            "Epoch 50/50\n",
            "13/13 [==============================] - 19s 1s/step - loss: 0.0240 - accuracy: 0.9928 - val_loss: 0.1726 - val_accuracy: 0.9552\n"
          ]
        }
      ],
      "source": [
        "# fit the model\n",
        "# Run the cell. It will take some time to execute\n",
        "r = model.fit_generator(\n",
        "  training_set,\n",
        "  validation_data=test_set,\n",
        "  epochs=50,\n",
        "  steps_per_epoch=len(training_set),\n",
        "  validation_steps=len(test_set)\n",
        ")"
      ]
    },
    {
      "cell_type": "code",
      "execution_count": null,
      "metadata": {
        "id": "duoBFZvPEnkG",
        "outputId": "81ba021c-8ef0-4a22-b322-cd067135ca90",
        "colab": {
          "base_uri": "https://localhost:8080/",
          "height": 530
        }
      },
      "outputs": [
        {
          "output_type": "display_data",
          "data": {
            "text/plain": [
              "<Figure size 432x288 with 1 Axes>"
            ],
            "image/png": "[encoded data removed]"
          },
          "metadata": {
            "needs_background": "light"
          }
        },
        {
          "output_type": "display_data",
          "data": {
            "text/plain": [
              "<Figure size 432x288 with 1 Axes>"
            ],
            "image/png": "[encoded data removed]"
          },
          "metadata": {
            "needs_background": "light"
          }
        },
        {
          "output_type": "display_data",
          "data": {
            "text/plain": [
              "<Figure size 432x288 with 0 Axes>"
            ]
          },
          "metadata": {}
        }
      ],
      "source": [
        "# plot the loss\n",
        "plt.plot(r.history['loss'], label='train loss')\n",
        "plt.plot(r.history['val_loss'], label='val loss')\n",
        "plt.legend()\n",
        "plt.show()\n",
        "plt.savefig('LossVal_loss')\n",
        "\n",
        "# plot the accuracy\n",
        "plt.plot(r.history['accuracy'], label='train acc')\n",
        "plt.plot(r.history['val_accuracy'], label='val acc')\n",
        "plt.legend()\n",
        "plt.show()\n",
        "plt.savefig('AccVal_acc')"
      ]
    },
    {
      "cell_type": "code",
      "execution_count": null,
      "metadata": {
        "id": "u9wssFYpEnkG"
      },
      "outputs": [],
      "source": [
        "# save it as a h5 file\n",
        "\n",
        "\n",
        "from tensorflow.keras.models import load_model\n",
        "\n",
        "model.save('model_vgg19.h5')"
      ]
    },
    {
      "cell_type": "code",
      "execution_count": null,
      "metadata": {
        "id": "Mdl1J2PZEnkH"
      },
      "outputs": [],
      "source": [
        ""
      ]
    },
    {
      "cell_type": "code",
      "execution_count": null,
      "metadata": {
        "id": "LfBiL0A-EnkH"
      },
      "outputs": [],
      "source": [
        "\n",
        "y_pred = model.predict(test_set)\n"
      ]
    },
    {
      "cell_type": "code",
      "execution_count": null,
      "metadata": {
        "id": "My1vvqZ4EnkH",
        "outputId": "637cd49a-25d0-4265-eafb-1cb332dbafe6",
        "colab": {
          "base_uri": "https://localhost:8080/"
        }
      },
      "outputs": [
        {
          "output_type": "execute_result",
          "data": {
            "text/plain": [
              "array([[9.26805486e-04, 9.99073148e-01],\n",
              "       [9.99942899e-01, 5.70859775e-05],\n",
              "       [9.99999881e-01, 1.34801326e-07],\n",
              "       [2.17858609e-03, 9.97821450e-01],\n",
              "       [7.59128571e-01, 2.40871459e-01],\n",
              "       [9.99973774e-01, 2.62021076e-05],\n",
              "       [1.22256828e-02, 9.87774312e-01],\n",
              "       [1.00000000e+00, 6.33450270e-09],\n",
              "       [9.99981761e-01, 1.82924814e-05],\n",
              "       [1.19088625e-03, 9.98809099e-01],\n",
              "       [9.99736965e-01, 2.62994959e-04],\n",
              "       [9.99905586e-01, 9.44544227e-05],\n",
              "       [9.08049345e-01, 9.19506699e-02],\n",
              "       [1.60005484e-02, 9.83999431e-01],\n",
              "       [3.60640022e-03, 9.96393621e-01],\n",
              "       [4.39729402e-03, 9.95602727e-01],\n",
              "       [9.99998569e-01, 1.45273884e-06],\n",
              "       [8.34340602e-03, 9.91656661e-01],\n",
              "       [1.08312853e-02, 9.89168763e-01],\n",
              "       [1.00000000e+00, 5.39442935e-09],\n",
              "       [2.23467709e-03, 9.97765303e-01],\n",
              "       [1.00000000e+00, 2.75209566e-09],\n",
              "       [5.71402252e-01, 4.28597778e-01],\n",
              "       [9.96910274e-01, 3.08973319e-03],\n",
              "       [9.99999642e-01, 3.35925591e-07],\n",
              "       [9.99997139e-01, 2.80626523e-06],\n",
              "       [5.09876339e-03, 9.94901180e-01],\n",
              "       [1.33186290e-02, 9.86681342e-01],\n",
              "       [2.22720467e-02, 9.77728009e-01],\n",
              "       [9.99678373e-01, 3.21693486e-04],\n",
              "       [9.99971151e-01, 2.88114716e-05],\n",
              "       [9.99992967e-01, 7.02970146e-06],\n",
              "       [9.99954581e-01, 4.54461260e-05],\n",
              "       [7.74174809e-01, 2.25825220e-01],\n",
              "       [1.37118027e-01, 8.62881958e-01],\n",
              "       [4.95370571e-03, 9.95046258e-01],\n",
              "       [3.06782965e-03, 9.96932149e-01],\n",
              "       [6.16890437e-04, 9.99383092e-01],\n",
              "       [6.19956478e-03, 9.93800461e-01],\n",
              "       [2.86542904e-02, 9.71345782e-01],\n",
              "       [1.00000000e+00, 9.94335281e-10],\n",
              "       [4.05327268e-02, 9.59467292e-01],\n",
              "       [9.99995589e-01, 4.36353730e-06],\n",
              "       [9.99815762e-01, 1.84286095e-04],\n",
              "       [9.99999523e-01, 4.39868188e-07],\n",
              "       [5.16599894e-01, 4.83400077e-01],\n",
              "       [4.41563409e-03, 9.95584428e-01],\n",
              "       [1.00000000e+00, 1.21051684e-08],\n",
              "       [1.00000000e+00, 2.02070178e-16],\n",
              "       [3.60039845e-02, 9.63995934e-01],\n",
              "       [1.66010242e-02, 9.83399034e-01],\n",
              "       [8.21796179e-01, 1.78203762e-01],\n",
              "       [9.99999881e-01, 6.57164705e-08],\n",
              "       [8.27996671e-01, 1.72003403e-01],\n",
              "       [9.99920964e-01, 7.89900441e-05],\n",
              "       [9.99972939e-01, 2.70562177e-05],\n",
              "       [9.99993801e-01, 6.25690836e-06],\n",
              "       [3.76376137e-03, 9.96236265e-01],\n",
              "       [1.89342047e-03, 9.98106599e-01],\n",
              "       [9.99746144e-01, 2.53889506e-04],\n",
              "       [2.59697018e-03, 9.97402966e-01],\n",
              "       [9.99901772e-01, 9.82595957e-05],\n",
              "       [5.16860886e-03, 9.94831383e-01],\n",
              "       [9.99986172e-01, 1.38707728e-05],\n",
              "       [9.99975324e-01, 2.46260061e-05],\n",
              "       [9.99999762e-01, 2.33265425e-07],\n",
              "       [5.67013994e-02, 9.43298578e-01],\n",
              "       [9.99935508e-01, 6.44503816e-05],\n",
              "       [9.94416833e-01, 5.58311399e-03],\n",
              "       [9.99973297e-01, 2.67086452e-05],\n",
              "       [9.98800755e-01, 1.19922101e-03],\n",
              "       [9.99982834e-01, 1.71473457e-05],\n",
              "       [1.00000000e+00, 4.23421263e-11],\n",
              "       [9.98897433e-01, 1.10255438e-03],\n",
              "       [9.99997258e-01, 2.78271455e-06],\n",
              "       [6.91082794e-03, 9.93089139e-01],\n",
              "       [9.99991059e-01, 8.88709565e-06],\n",
              "       [9.99952912e-01, 4.70702944e-05],\n",
              "       [8.26246917e-01, 1.73753098e-01],\n",
              "       [9.99697089e-01, 3.02946864e-04],\n",
              "       [1.34635884e-02, 9.86536443e-01],\n",
              "       [6.10922240e-02, 9.38907802e-01],\n",
              "       [9.99924541e-01, 7.54465873e-05],\n",
              "       [1.00000000e+00, 3.53442556e-14],\n",
              "       [9.99987960e-01, 1.20992945e-05],\n",
              "       [3.21595147e-02, 9.67840433e-01],\n",
              "       [9.59739089e-01, 4.02609035e-02],\n",
              "       [9.99877810e-01, 1.22207697e-04],\n",
              "       [2.44772481e-03, 9.97552335e-01],\n",
              "       [9.99976039e-01, 2.40054196e-05],\n",
              "       [8.07744041e-02, 9.19225574e-01],\n",
              "       [4.86230701e-01, 5.13769269e-01],\n",
              "       [9.99978065e-01, 2.19817102e-05],\n",
              "       [1.86384156e-01, 8.13615859e-01],\n",
              "       [4.83451188e-02, 9.51654851e-01],\n",
              "       [9.99992609e-01, 7.41316035e-06],\n",
              "       [9.99996662e-01, 3.37903316e-06],\n",
              "       [9.99999762e-01, 2.12897973e-07],\n",
              "       [1.88046657e-02, 9.81195331e-01],\n",
              "       [9.32017148e-01, 6.79828599e-02],\n",
              "       [1.00000000e+00, 4.96870427e-11],\n",
              "       [6.02579257e-03, 9.93974268e-01],\n",
              "       [3.73662147e-03, 9.96263325e-01],\n",
              "       [9.99999762e-01, 2.97794742e-07],\n",
              "       [1.00000000e+00, 4.63979767e-17],\n",
              "       [5.10464758e-02, 9.48953569e-01],\n",
              "       [9.99954581e-01, 4.53820685e-05],\n",
              "       [1.80585179e-02, 9.81941462e-01],\n",
              "       [1.68734938e-02, 9.83126581e-01],\n",
              "       [8.67738187e-01, 1.32261857e-01],\n",
              "       [9.99999762e-01, 1.82975199e-07],\n",
              "       [1.00000000e+00, 4.46390871e-08],\n",
              "       [1.00000000e+00, 7.66452568e-10],\n",
              "       [1.00000000e+00, 2.56879851e-10],\n",
              "       [1.00000000e+00, 3.41366480e-16],\n",
              "       [9.99535799e-01, 4.64229000e-04],\n",
              "       [9.99280512e-01, 7.19471253e-04],\n",
              "       [1.00000000e+00, 4.85873164e-09],\n",
              "       [9.99476731e-01, 5.23254508e-04],\n",
              "       [9.99676704e-01, 3.23299930e-04],\n",
              "       [9.99990940e-01, 9.07835420e-06],\n",
              "       [4.51523587e-02, 9.54847693e-01],\n",
              "       [4.90368064e-03, 9.95096266e-01],\n",
              "       [1.00000000e+00, 8.59750849e-18],\n",
              "       [9.99896646e-01, 1.03342289e-04],\n",
              "       [9.99954224e-01, 4.57294846e-05],\n",
              "       [2.29832740e-03, 9.97701705e-01],\n",
              "       [1.86824624e-03, 9.98131812e-01],\n",
              "       [9.99944091e-01, 5.59555847e-05],\n",
              "       [9.99931812e-01, 6.82024256e-05],\n",
              "       [1.00000000e+00, 9.03534303e-10],\n",
              "       [5.05504850e-03, 9.94944990e-01],\n",
              "       [9.57177766e-03, 9.90428209e-01],\n",
              "       [9.99981880e-01, 1.80782645e-05]], dtype=float32)"
            ]
          },
          "metadata": {},
          "execution_count": 24
        }
      ],
      "source": [
        "y_pred"
      ]
    },
    {
      "cell_type": "code",
      "execution_count": null,
      "metadata": {
        "id": "Q6lfwRTwEnkI"
      },
      "outputs": [],
      "source": [
        "import numpy as np\n",
        "y_pred = np.argmax(y_pred, axis=1)"
      ]
    },
    {
      "cell_type": "code",
      "execution_count": null,
      "metadata": {
        "id": "C5blDJ5hEnkI",
        "outputId": "e3c4f5fd-bd15-44ca-fb3e-9ab080ea61d7",
        "colab": {
          "base_uri": "https://localhost:8080/"
        }
      },
      "outputs": [
        {
          "output_type": "execute_result",
          "data": {
            "text/plain": [
              "array([1, 0, 0, 1, 0, 0, 1, 0, 0, 1, 0, 0, 0, 1, 1, 1, 0, 1, 1, 0, 1, 0,\n",
              "       0, 0, 0, 0, 1, 1, 1, 0, 0, 0, 0, 0, 1, 1, 1, 1, 1, 1, 0, 1, 0, 0,\n",
              "       0, 0, 1, 0, 0, 1, 1, 0, 0, 0, 0, 0, 0, 1, 1, 0, 1, 0, 1, 0, 0, 0,\n",
              "       1, 0, 0, 0, 0, 0, 0, 0, 0, 1, 0, 0, 0, 0, 1, 1, 0, 0, 0, 1, 0, 0,\n",
              "       1, 0, 1, 1, 0, 1, 1, 0, 0, 0, 1, 0, 0, 1, 1, 0, 0, 1, 0, 1, 1, 0,\n",
              "       0, 0, 0, 0, 0, 0, 0, 0, 0, 0, 0, 1, 1, 0, 0, 0, 1, 1, 0, 0, 0, 1,\n",
              "       1, 0])"
            ]
          },
          "metadata": {},
          "execution_count": 26
        }
      ],
      "source": [
        "y_pred"
      ]
    },
    {
      "cell_type": "code",
      "execution_count": null,
      "metadata": {
        "id": "OWq8LZLeEnkI"
      },
      "outputs": [],
      "source": [
        ""
      ]
    },
    {
      "cell_type": "code",
      "execution_count": null,
      "metadata": {
        "id": "P6AVM2kzEnkI"
      },
      "outputs": [],
      "source": [
        "from tensorflow.keras.models import load_model\n",
        "from tensorflow.keras.preprocessing import image"
      ]
    },
    {
      "cell_type": "code",
      "execution_count": null,
      "metadata": {
        "id": "NlTX0LSjEnkI"
      },
      "outputs": [],
      "source": [
        "model=load_model('model_vgg19.h5')"
      ]
    },
    {
      "cell_type": "code",
      "execution_count": null,
      "metadata": {
        "id": "mRTTBBQ7EnkJ"
      },
      "outputs": [],
      "source": [
        ""
      ]
    },
    {
      "cell_type": "code",
      "execution_count": null,
      "metadata": {
        "id": "1ApsfTrYEnkJ"
      },
      "outputs": [],
      "source": [
        "img=image.load_img('/content/drive/MyDrive/Dataset/Test/Parasite/C39P4thinF_original_IMG_20150622_105554_cell_10.png',target_size=(224,224))\n",
        "\n"
      ]
    },
    {
      "cell_type": "code",
      "execution_count": null,
      "metadata": {
        "id": "pht7hM6VEnkJ",
        "outputId": "17b15aac-aaba-4fa3-dc89-c6294a5efbb0",
        "colab": {
          "base_uri": "https://localhost:8080/"
        }
      },
      "outputs": [
        {
          "output_type": "execute_result",
          "data": {
            "text/plain": [
              "array([[[0., 0., 0.],\n",
              "        [0., 0., 0.],\n",
              "        [0., 0., 0.],\n",
              "        ...,\n",
              "        [0., 0., 0.],\n",
              "        [0., 0., 0.],\n",
              "        [0., 0., 0.]],\n",
              "\n",
              "       [[0., 0., 0.],\n",
              "        [0., 0., 0.],\n",
              "        [0., 0., 0.],\n",
              "        ...,\n",
              "        [0., 0., 0.],\n",
              "        [0., 0., 0.],\n",
              "        [0., 0., 0.]],\n",
              "\n",
              "       [[0., 0., 0.],\n",
              "        [0., 0., 0.],\n",
              "        [0., 0., 0.],\n",
              "        ...,\n",
              "        [0., 0., 0.],\n",
              "        [0., 0., 0.],\n",
              "        [0., 0., 0.]],\n",
              "\n",
              "       ...,\n",
              "\n",
              "       [[0., 0., 0.],\n",
              "        [0., 0., 0.],\n",
              "        [0., 0., 0.],\n",
              "        ...,\n",
              "        [0., 0., 0.],\n",
              "        [0., 0., 0.],\n",
              "        [0., 0., 0.]],\n",
              "\n",
              "       [[0., 0., 0.],\n",
              "        [0., 0., 0.],\n",
              "        [0., 0., 0.],\n",
              "        ...,\n",
              "        [0., 0., 0.],\n",
              "        [0., 0., 0.],\n",
              "        [0., 0., 0.]],\n",
              "\n",
              "       [[0., 0., 0.],\n",
              "        [0., 0., 0.],\n",
              "        [0., 0., 0.],\n",
              "        ...,\n",
              "        [0., 0., 0.],\n",
              "        [0., 0., 0.],\n",
              "        [0., 0., 0.]]], dtype=float32)"
            ]
          },
          "metadata": {},
          "execution_count": 55
        }
      ],
      "source": [
        "x=image.img_to_array(img)\n",
        "x"
      ]
    },
    {
      "cell_type": "code",
      "execution_count": null,
      "metadata": {
        "id": "4CgFeywSEnkJ",
        "outputId": "3555aa68-1301-410a-a7f8-b9faa4035f0f",
        "colab": {
          "base_uri": "https://localhost:8080/"
        }
      },
      "outputs": [
        {
          "output_type": "execute_result",
          "data": {
            "text/plain": [
              "(224, 224, 3)"
            ]
          },
          "metadata": {},
          "execution_count": 56
        }
      ],
      "source": [
        "x.shape"
      ]
    },
    {
      "cell_type": "code",
      "execution_count": null,
      "metadata": {
        "id": "JrqXTiPvEnkJ"
      },
      "outputs": [],
      "source": [
        "x=x/255"
      ]
    },
    {
      "cell_type": "code",
      "execution_count": null,
      "metadata": {
        "id": "LZBf_XkHEnkK",
        "outputId": "e6f50e90-2d39-4565-8e47-83d651466bd6",
        "colab": {
          "base_uri": "https://localhost:8080/"
        }
      },
      "outputs": [
        {
          "output_type": "execute_result",
          "data": {
            "text/plain": [
              "(1, 224, 224, 3)"
            ]
          },
          "metadata": {},
          "execution_count": 58
        }
      ],
      "source": [
        "x=np.expand_dims(x,axis=0)\n",
        "img_data=preprocess_input(x)\n",
        "img_data.shape"
      ]
    },
    {
      "cell_type": "code",
      "execution_count": null,
      "metadata": {
        "id": "iWq74slhEnkK",
        "outputId": "362cde65-bfae-4892-9eba-84cdd6058af0",
        "colab": {
          "base_uri": "https://localhost:8080/"
        }
      },
      "outputs": [
        {
          "output_type": "execute_result",
          "data": {
            "text/plain": [
              "array([[0., 1.]], dtype=float32)"
            ]
          },
          "metadata": {},
          "execution_count": 59
        }
      ],
      "source": [
        "model.predict(img_data)"
      ]
    },
    {
      "cell_type": "code",
      "execution_count": null,
      "metadata": {
        "id": "zEFuzqyCEnkK"
      },
      "outputs": [],
      "source": [
        "a=np.argmax(model.predict(img_data), axis=1)"
      ]
    },
    {
      "cell_type": "code",
      "execution_count": null,
      "metadata": {
        "id": "I2CjcPulEnkK",
        "outputId": "d0ad39e7-9656-454d-cd37-6a54289b8b39",
        "colab": {
          "base_uri": "https://localhost:8080/"
        }
      },
      "outputs": [
        {
          "output_type": "stream",
          "name": "stdout",
          "text": [
            "Uninfected\n"
          ]
        }
      ],
      "source": [
        "if(a==1):\n",
        "    print(\"Uninfected\")\n",
        "else:\n",
        "    print(\"Infected\")"
      ]
    },
    {
      "cell_type": "code",
      "execution_count": null,
      "metadata": {
        "id": "bMSNgbRmEnkL"
      },
      "outputs": [],
      "source": [
        ""
      ]
    },
    {
      "cell_type": "code",
      "execution_count": null,
      "metadata": {
        "id": "o_r_EIQkEnkL"
      },
      "outputs": [],
      "source": [
        ""
      ]
    }
  ],
  "metadata": {
    "kernelspec": {
      "display_name": "Python 3",
      "language": "python",
      "name": "python3"
    },
    "language_info": {
      "codemirror_mode": {
        "name": "ipython",
        "version": 3
      },
      "file_extension": ".py",
      "mimetype": "text/x-python",
      "name": "python",
      "nbconvert_exporter": "python",
      "pygments_lexer": "ipython3",
      "version": "3.7.4"
    },
    "colab": {
      "name": "MalariaDetection.ipynb",
      "provenance": [],
      "collapsed_sections": []
    }
  },
  "nbformat": 4,
  "nbformat_minor": 0
}